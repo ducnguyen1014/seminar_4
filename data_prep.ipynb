{
 "cells": [
  {
   "cell_type": "markdown",
   "id": "3ca8c1e1",
   "metadata": {},
   "source": [
    "# Imports and Parameters"
   ]
  },
  {
   "cell_type": "code",
   "execution_count": null,
   "id": "4e2e19fb",
   "metadata": {},
   "outputs": [],
   "source": [
    "import os\n",
    "import shutil\n",
    "\n",
    "import numpy as np\n",
    "import pandas as pd\n",
    "\n",
    "import torch\n",
    "from torchvision import transforms\n",
    "from PIL import Image\n",
    "from torch.utils.data import Dataset\n",
    "\n",
    "from sklearn.model_selection import train_test_split"
   ]
  },
  {
   "cell_type": "code",
   "execution_count": null,
   "id": "a7ce2ccf",
   "metadata": {},
   "outputs": [],
   "source": [
    "ORIGINAL_DATA_FOLDER = r\"D:\\OneDrive - fpts.com.vn\\DucNN privates\\Files\\Khoa học dữ liệu\\Chuyen_de_4_Hoc_sau_va_ung_dung_trong_bai_toan_anh\\data\\original_data\"\n",
    "PREPARED_DATA_FOLDER = r\"D:\\OneDrive - fpts.com.vn\\DucNN privates\\Files\\Khoa học dữ liệu\\Chuyen_de_4_Hoc_sau_va_ung_dung_trong_bai_toan_anh\\data\\prepared_data\"\n",
    "\n",
    "DO_SPLIT_VAL = False\n",
    "\n",
    "TEST_SPLIT = 0.2  # also used for val if DO_SPLIT_VAL is True"
   ]
  },
  {
   "cell_type": "markdown",
   "id": "5f29ed5f",
   "metadata": {},
   "source": [
    "# Load and sample"
   ]
  },
  {
   "cell_type": "code",
   "execution_count": 3,
   "id": "fc7e0bfa",
   "metadata": {},
   "outputs": [
    {
     "data": {
      "application/vnd.microsoft.datawrangler.viewer.v0+json": {
       "columns": [
        {
         "name": "index",
         "rawType": "int64",
         "type": "integer"
        },
        {
         "name": "id",
         "rawType": "object",
         "type": "string"
        },
        {
         "name": "label",
         "rawType": "int64",
         "type": "integer"
        }
       ],
       "ref": "021227e7-0026-42fa-ba14-a04971f89177",
       "rows": [
        [
         "0",
         "f38a6374c348f90b587e046aac6079959adf3835",
         "0"
        ],
        [
         "1",
         "c18f2d887b7ae4f6742ee445113fa1aef383ed77",
         "1"
        ],
        [
         "2",
         "755db6279dae599ebb4d39a9123cce439965282d",
         "0"
        ],
        [
         "3",
         "bc3f0c64fb968ff4a8bd33af6971ecae77c75e08",
         "0"
        ],
        [
         "4",
         "068aba587a4950175d04c680d38943fd488d6a9d",
         "0"
        ],
        [
         "5",
         "acfe80838488fae3c89bd21ade75be5c34e66be7",
         "0"
        ],
        [
         "6",
         "a24ce148f6ffa7ef8eefb4efb12ebffe8dd700da",
         "1"
        ],
        [
         "7",
         "7f6ccae485af121e0b6ee733022e226ee6b0c65f",
         "1"
        ],
        [
         "8",
         "559e55a64c9ba828f700e948f6886f4cea919261",
         "0"
        ],
        [
         "9",
         "8eaaa7a400aa79d36c2440a4aa101cc14256cda4",
         "0"
        ],
        [
         "10",
         "a106469bbfda4cdc5a9da7ac0152927bf1b4a92d",
         "0"
        ],
        [
         "11",
         "c3d660212bf2a11c994e0eadff13770a9927b731",
         "1"
        ],
        [
         "12",
         "a1991e73a9b676faddd2bd47c39754b14d1eb923",
         "0"
        ],
        [
         "13",
         "08566ce82d4406f464c9c2a3cd014704735db7a9",
         "0"
        ],
        [
         "14",
         "94fa32b29cc1c00403176c0795fffa3cfaa0f20e",
         "1"
        ],
        [
         "15",
         "f416de7491a31951f79b3cee75b002f4d1bf0162",
         "0"
        ],
        [
         "16",
         "a1c001f6b242c72d3066f15ac6eb059ea72d30ba",
         "0"
        ],
        [
         "17",
         "0b820b71670c039dd0a51333d1c919f471a9e940",
         "1"
        ],
        [
         "18",
         "730431efa2f79927156dcc4382819e9a6cc2c5bb",
         "0"
        ],
        [
         "19",
         "d34af1e7500f2f3de41b0e6fdeb2ed245d814590",
         "1"
        ],
        [
         "20",
         "4b7a73f1fe1dafe2ffb7d2c0b83107f060b8d693",
         "0"
        ],
        [
         "21",
         "5fc468030b7fdb5a0b656a45fa0dde5553dd9064",
         "0"
        ],
        [
         "22",
         "4e1e69b64cdeb757178fc5b657b4e5ea07e53935",
         "0"
        ],
        [
         "23",
         "464327050ef07bb927f8bfb5c4e4dd5ebd4d3c09",
         "1"
        ],
        [
         "24",
         "6961bdcc16f6c1d7db88fc6a7823178288c2a29e",
         "1"
        ],
        [
         "25",
         "8e294a0fe82d36c9ae921ef2cc76ed0d0691b90f",
         "0"
        ],
        [
         "26",
         "4e491f0beca3cc68b5013cbe726a9b358bf0f668",
         "0"
        ],
        [
         "27",
         "ee04141918b4acc1477dd4fd280c64f52a33fcb7",
         "0"
        ],
        [
         "28",
         "233bf46a575c1731821073e318c029e5df8b12ff",
         "1"
        ],
        [
         "29",
         "e6e31b49681a06c68aca9b64c42a4f002189a081",
         "1"
        ],
        [
         "30",
         "e740c6e306e8cc19a169140718f03879d3354661",
         "0"
        ],
        [
         "31",
         "3fd6d45524adefa2b1210123b672fc84c9680f9e",
         "0"
        ],
        [
         "32",
         "cb249c0b6e734bfaef451192ba5f25439bbac754",
         "1"
        ],
        [
         "33",
         "65d585c2afc24a8b90a190c9d8aca44618cbdebc",
         "0"
        ],
        [
         "34",
         "68f07184e9a7abac01f55470c17a6c4beffba09a",
         "1"
        ],
        [
         "35",
         "a0e35f55df27bfe6a43894780333f202108da95c",
         "0"
        ],
        [
         "36",
         "1af50a3d4254999b0b486ee9c4fe1310c87f5b07",
         "0"
        ],
        [
         "37",
         "9e565c87ee9077f325822a7322bf4dbc7f384ea8",
         "0"
        ],
        [
         "38",
         "1ef450ccba59e14358893b0659b9863ec8b1adf2",
         "0"
        ],
        [
         "39",
         "ba4848249789d4214d368b39dfae0bf75b8855de",
         "0"
        ],
        [
         "40",
         "c94f335bb053f4c4d2bf9d2ae9f9eb34b87478a6",
         "0"
        ],
        [
         "41",
         "856624fee163510c5bedc4d3307eae5e17ecd412",
         "0"
        ],
        [
         "42",
         "10252ba9b4461d62e79549a95f045bec00f405d1",
         "0"
        ],
        [
         "43",
         "7f8fcb0207234fb6765df51a26cbf05942a85ee4",
         "0"
        ],
        [
         "44",
         "22161191ffa34fd9a14f07d1bd55a1fea3a899b6",
         "0"
        ],
        [
         "45",
         "5300830e2fd06f96bb43e6fa21220222bb672421",
         "1"
        ],
        [
         "46",
         "51a9623efcf8ea536a098e0cd80223a0a0f7ce9c",
         "0"
        ],
        [
         "47",
         "ba991f85d627b971a4db62c2b9471f0863d0aeb8",
         "0"
        ],
        [
         "48",
         "d2362c08063000c3c74a52a399b0b4779875018f",
         "0"
        ],
        [
         "49",
         "5a8807062d56e6adfd97c4aa8a6361087b488660",
         "0"
        ]
       ],
       "shape": {
        "columns": 2,
        "rows": 220025
       }
      },
      "text/html": [
       "<div>\n",
       "<style scoped>\n",
       "    .dataframe tbody tr th:only-of-type {\n",
       "        vertical-align: middle;\n",
       "    }\n",
       "\n",
       "    .dataframe tbody tr th {\n",
       "        vertical-align: top;\n",
       "    }\n",
       "\n",
       "    .dataframe thead th {\n",
       "        text-align: right;\n",
       "    }\n",
       "</style>\n",
       "<table border=\"1\" class=\"dataframe\">\n",
       "  <thead>\n",
       "    <tr style=\"text-align: right;\">\n",
       "      <th></th>\n",
       "      <th>id</th>\n",
       "      <th>label</th>\n",
       "    </tr>\n",
       "  </thead>\n",
       "  <tbody>\n",
       "    <tr>\n",
       "      <th>0</th>\n",
       "      <td>f38a6374c348f90b587e046aac6079959adf3835</td>\n",
       "      <td>0</td>\n",
       "    </tr>\n",
       "    <tr>\n",
       "      <th>1</th>\n",
       "      <td>c18f2d887b7ae4f6742ee445113fa1aef383ed77</td>\n",
       "      <td>1</td>\n",
       "    </tr>\n",
       "    <tr>\n",
       "      <th>2</th>\n",
       "      <td>755db6279dae599ebb4d39a9123cce439965282d</td>\n",
       "      <td>0</td>\n",
       "    </tr>\n",
       "    <tr>\n",
       "      <th>3</th>\n",
       "      <td>bc3f0c64fb968ff4a8bd33af6971ecae77c75e08</td>\n",
       "      <td>0</td>\n",
       "    </tr>\n",
       "    <tr>\n",
       "      <th>4</th>\n",
       "      <td>068aba587a4950175d04c680d38943fd488d6a9d</td>\n",
       "      <td>0</td>\n",
       "    </tr>\n",
       "    <tr>\n",
       "      <th>...</th>\n",
       "      <td>...</td>\n",
       "      <td>...</td>\n",
       "    </tr>\n",
       "    <tr>\n",
       "      <th>220020</th>\n",
       "      <td>53e9aa9d46e720bf3c6a7528d1fca3ba6e2e49f6</td>\n",
       "      <td>0</td>\n",
       "    </tr>\n",
       "    <tr>\n",
       "      <th>220021</th>\n",
       "      <td>d4b854fe38b07fe2831ad73892b3cec877689576</td>\n",
       "      <td>1</td>\n",
       "    </tr>\n",
       "    <tr>\n",
       "      <th>220022</th>\n",
       "      <td>3d046cead1a2a5cbe00b2b4847cfb7ba7cf5fe75</td>\n",
       "      <td>0</td>\n",
       "    </tr>\n",
       "    <tr>\n",
       "      <th>220023</th>\n",
       "      <td>f129691c13433f66e1e0671ff1fe80944816f5a2</td>\n",
       "      <td>0</td>\n",
       "    </tr>\n",
       "    <tr>\n",
       "      <th>220024</th>\n",
       "      <td>a81f84895ddcd522302ddf34be02eb1b3e5af1cb</td>\n",
       "      <td>1</td>\n",
       "    </tr>\n",
       "  </tbody>\n",
       "</table>\n",
       "<p>220025 rows × 2 columns</p>\n",
       "</div>"
      ],
      "text/plain": [
       "                                              id  label\n",
       "0       f38a6374c348f90b587e046aac6079959adf3835      0\n",
       "1       c18f2d887b7ae4f6742ee445113fa1aef383ed77      1\n",
       "2       755db6279dae599ebb4d39a9123cce439965282d      0\n",
       "3       bc3f0c64fb968ff4a8bd33af6971ecae77c75e08      0\n",
       "4       068aba587a4950175d04c680d38943fd488d6a9d      0\n",
       "...                                          ...    ...\n",
       "220020  53e9aa9d46e720bf3c6a7528d1fca3ba6e2e49f6      0\n",
       "220021  d4b854fe38b07fe2831ad73892b3cec877689576      1\n",
       "220022  3d046cead1a2a5cbe00b2b4847cfb7ba7cf5fe75      0\n",
       "220023  f129691c13433f66e1e0671ff1fe80944816f5a2      0\n",
       "220024  a81f84895ddcd522302ddf34be02eb1b3e5af1cb      1\n",
       "\n",
       "[220025 rows x 2 columns]"
      ]
     },
     "execution_count": 3,
     "metadata": {},
     "output_type": "execute_result"
    }
   ],
   "source": [
    "labels_df = pd.read_csv(os.path.join(ORIGINAL_DATA_FOLDER, \"train_labels.csv\"))\n",
    "labels_df"
   ]
  },
  {
   "cell_type": "code",
   "execution_count": 4,
   "id": "c00e6c8c",
   "metadata": {},
   "outputs": [
    {
     "data": {
      "text/plain": [
       "(220025, 2)"
      ]
     },
     "execution_count": 4,
     "metadata": {},
     "output_type": "execute_result"
    }
   ],
   "source": [
    "labels_df.shape\n"
   ]
  },
  {
   "cell_type": "code",
   "execution_count": 5,
   "id": "c24099ce",
   "metadata": {},
   "outputs": [
    {
     "data": {
      "text/plain": [
       "22002"
      ]
     },
     "execution_count": 5,
     "metadata": {},
     "output_type": "execute_result"
    }
   ],
   "source": [
    "SAMPLE_SIZE = int(len(labels_df) / 10)\n",
    "SAMPLE_SIZE"
   ]
  },
  {
   "cell_type": "code",
   "execution_count": 6,
   "id": "9783b965",
   "metadata": {},
   "outputs": [
    {
     "data": {
      "application/vnd.microsoft.datawrangler.viewer.v0+json": {
       "columns": [
        {
         "name": "label",
         "rawType": "int64",
         "type": "integer"
        },
        {
         "name": "count",
         "rawType": "int64",
         "type": "integer"
        }
       ],
       "ref": "fb8a1627-cb1a-422f-bacf-b25fafdf02d9",
       "rows": [
        [
         "0",
         "130908"
        ],
        [
         "1",
         "89117"
        ]
       ],
       "shape": {
        "columns": 1,
        "rows": 2
       }
      },
      "text/plain": [
       "label\n",
       "0    130908\n",
       "1     89117\n",
       "Name: count, dtype: int64"
      ]
     },
     "execution_count": 6,
     "metadata": {},
     "output_type": "execute_result"
    }
   ],
   "source": [
    "labels_df[\"label\"].value_counts()\n"
   ]
  },
  {
   "cell_type": "code",
   "execution_count": 7,
   "id": "8bf80041",
   "metadata": {},
   "outputs": [
    {
     "data": {
      "application/vnd.microsoft.datawrangler.viewer.v0+json": {
       "columns": [
        {
         "name": "index",
         "rawType": "int64",
         "type": "integer"
        },
        {
         "name": "id",
         "rawType": "object",
         "type": "string"
        },
        {
         "name": "label",
         "rawType": "int64",
         "type": "integer"
        }
       ],
       "ref": "ec1834b0-6598-41dc-9fab-363ac8680cbe",
       "rows": [
        [
         "0",
         "8a0657ec177b9eb56818104dd2b47506c6a39527",
         "1"
        ],
        [
         "1",
         "afab792594de5e1d307921ce71056ae20c87fa63",
         "0"
        ],
        [
         "2",
         "4abdc97be8cfb42c396f85b7efb06f7d444d8166",
         "0"
        ],
        [
         "3",
         "033fdf44b55943ee73b8b40e94b789033463b136",
         "1"
        ],
        [
         "4",
         "0cbd532db8b2bd65e8dab08250d157babc832f4d",
         "0"
        ],
        [
         "5",
         "5b6cc552a4911e590639e0c1e1948814a4634dc9",
         "0"
        ],
        [
         "6",
         "a32fdee659881fe9dc0576d53589a9a57d3b970c",
         "0"
        ],
        [
         "7",
         "5db16b06d40a35aeac4c4177db64af25067daa0d",
         "1"
        ],
        [
         "8",
         "fa1b1ea2b758eb73b4e5738c4e78808eafb4f365",
         "1"
        ],
        [
         "9",
         "c1f8d105c2e12213969cddcdd065d434e583b53a",
         "0"
        ],
        [
         "10",
         "2fda68e5caab4dabd375893e4909335ebaefc9ea",
         "1"
        ],
        [
         "11",
         "0354affbc61e60b4af04b8597511ecbfc89debe8",
         "0"
        ],
        [
         "12",
         "bb9395f6d96edf292ca0711706ad04a9ff2d4cd7",
         "1"
        ],
        [
         "13",
         "b1c71b93e57e9d0bdb71a200eb35ef960f716032",
         "0"
        ],
        [
         "14",
         "6a36e8610d948afdb61189e732954b966d4e5c7e",
         "1"
        ],
        [
         "15",
         "774b41f673441a3688c501b7cae0eea0b7debf98",
         "0"
        ],
        [
         "16",
         "657303f91363b65ef040a2e774112d42d552c546",
         "1"
        ],
        [
         "17",
         "fa5aef5ea4412357ea690eec64865483073f52d6",
         "0"
        ],
        [
         "18",
         "e4e1e0f50e1287f78be036e2e1cbb8075c0929eb",
         "0"
        ],
        [
         "19",
         "aef2d2a561a69ddc6325f63fa73cdba4241cec54",
         "0"
        ],
        [
         "20",
         "fdcee099f51e3b9c8a90e5e0516115369065fb49",
         "1"
        ],
        [
         "21",
         "74da9952db3e75f6dca0c0dabb3b154a281b7e41",
         "0"
        ],
        [
         "22",
         "ae25e771ec5bb0ce8b699157588fe4560c77c26a",
         "0"
        ],
        [
         "23",
         "d0e5d47f56fbe4f82c0f14e3b711e1c15f1b385f",
         "0"
        ],
        [
         "24",
         "3be9aa737d010232f78cbdc8efb62eedc485317e",
         "0"
        ],
        [
         "25",
         "701ca022b460286d7cc7594f03388cb1ff3db5af",
         "1"
        ],
        [
         "26",
         "99d2d6d69e2d2a36142a688fa7ebcfc153103ac2",
         "0"
        ],
        [
         "27",
         "450dff381b52ba7090078364be2e50fe96a8eda6",
         "0"
        ],
        [
         "28",
         "d33559abe929b198f87f06183d5f801a58c02044",
         "0"
        ],
        [
         "29",
         "436561b9f368598df707a91f75d8560a7b354110",
         "0"
        ],
        [
         "30",
         "71f750af148091056322d96ad2d3762e5d4753a9",
         "0"
        ],
        [
         "31",
         "87c3e827acc27b6b024b08de70afff4dcfa862cd",
         "0"
        ],
        [
         "32",
         "c8ffd49bb8df051dfc13c673f46e23bf17e6e732",
         "0"
        ],
        [
         "33",
         "94d370868d42560874ac61c4b79452635cb7c4ae",
         "0"
        ],
        [
         "34",
         "5c4ab526db05b7d096973a38832a9abcf22328f8",
         "1"
        ],
        [
         "35",
         "371f8e68986fce07d14102c480f866f8aee24adc",
         "0"
        ],
        [
         "36",
         "a1353d2bf6dff775f361a3685674aabd917bf6ed",
         "0"
        ],
        [
         "37",
         "1f9ee7de9a727fa72739e6a9eb99839fe77efdeb",
         "0"
        ],
        [
         "38",
         "16cb5e1be9eb63d1f76a8978b5a96e497b427911",
         "1"
        ],
        [
         "39",
         "ba2961f816189d0a71b1af429f1622684103264e",
         "0"
        ],
        [
         "40",
         "fc5ad1aa9e91d61aea9704a583cc0d5a5ebb9ba1",
         "0"
        ],
        [
         "41",
         "53c4223b044f2ad5710809ce898a5081a161a7dd",
         "1"
        ],
        [
         "42",
         "63790cd5624cc944583ab393801168ff0354cb02",
         "0"
        ],
        [
         "43",
         "257a4260c72812cd40354befdf9eea5fc248fc8e",
         "1"
        ],
        [
         "44",
         "4154209710809030c440133d32b745a55eddd491",
         "0"
        ],
        [
         "45",
         "4d16dcc8927bcddc6ce1ed9cc7da28fccf396b52",
         "0"
        ],
        [
         "46",
         "d6eeb87cdee48c0bc8fcfad93bd09fa7a683b3a7",
         "1"
        ],
        [
         "47",
         "604556316f33b438c5ee5ae9ac69ce2b8863fa0c",
         "0"
        ],
        [
         "48",
         "6e0a069593cfc186ffefd6dd7fc2c3705af70ad0",
         "0"
        ],
        [
         "49",
         "37f725295c633f179b7982fe89a087e3ce1421fe",
         "1"
        ]
       ],
       "shape": {
        "columns": 2,
        "rows": 22002
       }
      },
      "text/html": [
       "<div>\n",
       "<style scoped>\n",
       "    .dataframe tbody tr th:only-of-type {\n",
       "        vertical-align: middle;\n",
       "    }\n",
       "\n",
       "    .dataframe tbody tr th {\n",
       "        vertical-align: top;\n",
       "    }\n",
       "\n",
       "    .dataframe thead th {\n",
       "        text-align: right;\n",
       "    }\n",
       "</style>\n",
       "<table border=\"1\" class=\"dataframe\">\n",
       "  <thead>\n",
       "    <tr style=\"text-align: right;\">\n",
       "      <th></th>\n",
       "      <th>id</th>\n",
       "      <th>label</th>\n",
       "    </tr>\n",
       "  </thead>\n",
       "  <tbody>\n",
       "    <tr>\n",
       "      <th>0</th>\n",
       "      <td>8a0657ec177b9eb56818104dd2b47506c6a39527</td>\n",
       "      <td>1</td>\n",
       "    </tr>\n",
       "    <tr>\n",
       "      <th>1</th>\n",
       "      <td>afab792594de5e1d307921ce71056ae20c87fa63</td>\n",
       "      <td>0</td>\n",
       "    </tr>\n",
       "    <tr>\n",
       "      <th>2</th>\n",
       "      <td>4abdc97be8cfb42c396f85b7efb06f7d444d8166</td>\n",
       "      <td>0</td>\n",
       "    </tr>\n",
       "    <tr>\n",
       "      <th>3</th>\n",
       "      <td>033fdf44b55943ee73b8b40e94b789033463b136</td>\n",
       "      <td>1</td>\n",
       "    </tr>\n",
       "    <tr>\n",
       "      <th>4</th>\n",
       "      <td>0cbd532db8b2bd65e8dab08250d157babc832f4d</td>\n",
       "      <td>0</td>\n",
       "    </tr>\n",
       "    <tr>\n",
       "      <th>...</th>\n",
       "      <td>...</td>\n",
       "      <td>...</td>\n",
       "    </tr>\n",
       "    <tr>\n",
       "      <th>21997</th>\n",
       "      <td>681768428a6cad7eafcb31581464bab65784321a</td>\n",
       "      <td>1</td>\n",
       "    </tr>\n",
       "    <tr>\n",
       "      <th>21998</th>\n",
       "      <td>ecf900769a47084b571213ad9d01e5bd330c9e4e</td>\n",
       "      <td>1</td>\n",
       "    </tr>\n",
       "    <tr>\n",
       "      <th>21999</th>\n",
       "      <td>3adca6cf48552e5b31e9ea3f942c91ef874ab030</td>\n",
       "      <td>0</td>\n",
       "    </tr>\n",
       "    <tr>\n",
       "      <th>22000</th>\n",
       "      <td>cd5b2fa479d71e14265b554ff7aec534a0b21f0c</td>\n",
       "      <td>0</td>\n",
       "    </tr>\n",
       "    <tr>\n",
       "      <th>22001</th>\n",
       "      <td>ef8aad0126cee42ed4a8f9a9e940801c36d5b040</td>\n",
       "      <td>0</td>\n",
       "    </tr>\n",
       "  </tbody>\n",
       "</table>\n",
       "<p>22002 rows × 2 columns</p>\n",
       "</div>"
      ],
      "text/plain": [
       "                                             id  label\n",
       "0      8a0657ec177b9eb56818104dd2b47506c6a39527      1\n",
       "1      afab792594de5e1d307921ce71056ae20c87fa63      0\n",
       "2      4abdc97be8cfb42c396f85b7efb06f7d444d8166      0\n",
       "3      033fdf44b55943ee73b8b40e94b789033463b136      1\n",
       "4      0cbd532db8b2bd65e8dab08250d157babc832f4d      0\n",
       "...                                         ...    ...\n",
       "21997  681768428a6cad7eafcb31581464bab65784321a      1\n",
       "21998  ecf900769a47084b571213ad9d01e5bd330c9e4e      1\n",
       "21999  3adca6cf48552e5b31e9ea3f942c91ef874ab030      0\n",
       "22000  cd5b2fa479d71e14265b554ff7aec534a0b21f0c      0\n",
       "22001  ef8aad0126cee42ed4a8f9a9e940801c36d5b040      0\n",
       "\n",
       "[22002 rows x 2 columns]"
      ]
     },
     "execution_count": 7,
     "metadata": {},
     "output_type": "execute_result"
    }
   ],
   "source": [
    "# Perform stratified sampling to keep the same ratio of 0 and 1 as the original data\n",
    "label_counts = labels_df[\"label\"].value_counts(normalize=True)\n",
    "n_0 = int(round(SAMPLE_SIZE * label_counts[0]))\n",
    "n_1 = SAMPLE_SIZE - n_0  # ensure total is exactly SAMPLE_SIZE\n",
    "\n",
    "stratified_sample_0 = labels_df[labels_df[\"label\"] == 0].sample(n=n_0, random_state=0)\n",
    "stratified_sample_1 = labels_df[labels_df[\"label\"] == 1].sample(n=n_1, random_state=0)\n",
    "\n",
    "stratified_sample = pd.concat(\n",
    "    [stratified_sample_0, stratified_sample_1], ignore_index=True\n",
    ")\n",
    "stratified_sample = stratified_sample.sample(frac=1, random_state=0).reset_index(\n",
    "    drop=True\n",
    ")  # shuffle\n",
    "\n",
    "stratified_sample\n"
   ]
  },
  {
   "cell_type": "code",
   "execution_count": 8,
   "id": "b6d020fa",
   "metadata": {},
   "outputs": [
    {
     "data": {
      "application/vnd.microsoft.datawrangler.viewer.v0+json": {
       "columns": [
        {
         "name": "label",
         "rawType": "int64",
         "type": "integer"
        },
        {
         "name": "count",
         "rawType": "int64",
         "type": "integer"
        }
       ],
       "ref": "2b206128-e063-482f-afec-a0017255ef95",
       "rows": [
        [
         "0",
         "13091"
        ],
        [
         "1",
         "8911"
        ]
       ],
       "shape": {
        "columns": 1,
        "rows": 2
       }
      },
      "text/plain": [
       "label\n",
       "0    13091\n",
       "1     8911\n",
       "Name: count, dtype: int64"
      ]
     },
     "execution_count": 8,
     "metadata": {},
     "output_type": "execute_result"
    }
   ],
   "source": [
    "stratified_sample[\"label\"].value_counts()\n"
   ]
  },
  {
   "cell_type": "code",
   "execution_count": 31,
   "id": "4d2c9a3b",
   "metadata": {},
   "outputs": [
    {
     "name": "stdout",
     "output_type": "stream",
     "text": [
      "22002\n"
     ]
    }
   ],
   "source": [
    "original_data_dir = os.path.join(ORIGINAL_DATA_FOLDER, \"train\")  # directory of files\n",
    "prepared_data_dir = os.path.join(PREPARED_DATA_FOLDER, \"full_data\")\n",
    "\n",
    "# Create the destination directory if it doesn't exist\n",
    "os.makedirs(prepared_data_dir, exist_ok=True)\n",
    "\n",
    "file_names = [f\"{img_id}.tif\" for img_id in stratified_sample[\"id\"]]\n",
    "print(len(file_names))\n",
    "full_filenames = [\n",
    "    os.path.join(original_data_dir, f) for f in file_names\n",
    "]  # get the full path to images\n",
    "\n",
    "# Copy files to the prepared_data_dir\n",
    "for src_path in full_filenames:\n",
    "    dst_path = os.path.join(prepared_data_dir, os.path.basename(src_path))\n",
    "    shutil.copy2(src_path, dst_path)\n"
   ]
  },
  {
   "cell_type": "code",
   "execution_count": 38,
   "id": "795c0df2",
   "metadata": {},
   "outputs": [],
   "source": [
    "stratified_sample.to_csv(\n",
    "    os.path.join(PREPARED_DATA_FOLDER, \"full_data_labels.csv\"), index=False\n",
    ")"
   ]
  },
  {
   "cell_type": "markdown",
   "id": "9c639eeb",
   "metadata": {},
   "source": [
    "# Train, val, test split"
   ]
  },
  {
   "cell_type": "code",
   "execution_count": 39,
   "id": "947435e8",
   "metadata": {},
   "outputs": [],
   "source": [
    "torch.manual_seed(0)  # fix random seed\n",
    "\n",
    "\n",
    "class pytorch_data(Dataset):\n",
    "    def __init__(self, data_dir, transform, data_type=\"train\"):\n",
    "        # Get Image File Names\n",
    "        cdm_data = os.path.join(data_dir, data_type)  # directory of files\n",
    "\n",
    "        file_names = [f for f in os.listdir(cdm_data) if f != \".gitkeep\"]\n",
    "\n",
    "        self.full_filenames = [\n",
    "            os.path.join(cdm_data, f) for f in file_names\n",
    "        ]  # get the full path to images\n",
    "\n",
    "        # Get Labels\n",
    "        labels_data = os.path.join(data_dir, f\"{data_type}_labels.csv\")\n",
    "        labels_df = pd.read_csv(labels_data)\n",
    "        labels_df.set_index(\"id\", inplace=True)  # set data frame index to id\n",
    "\n",
    "        self.labels = []\n",
    "        for filename in file_names:\n",
    "            try:\n",
    "                label = labels_df.loc[filename[:-4]].values[0]\n",
    "                self.labels.append(label)\n",
    "            except Exception as e:\n",
    "                print(f\"Problem with filename: {filename} - {e}\")\n",
    "                raise\n",
    "        self.transform = transform\n",
    "\n",
    "    def __len__(self):\n",
    "        return len(self.full_filenames)  # size of dataset\n",
    "\n",
    "    def __getitem__(self, idx):\n",
    "        # open image, apply transforms and return with label\n",
    "        image = Image.open(self.full_filenames[idx])  # Open Image with PIL\n",
    "        image = self.transform(image)  # Apply Specific Transformation to Image\n",
    "        return image, self.labels[idx]\n"
   ]
  },
  {
   "cell_type": "code",
   "execution_count": 23,
   "id": "400d3359",
   "metadata": {},
   "outputs": [],
   "source": [
    "# define transformation that converts a PIL image into PyTorch tensors\n",
    "data_transformer = transforms.Compose(\n",
    "    [transforms.ToTensor(), transforms.Resize((46, 46))]\n",
    ")"
   ]
  },
  {
   "cell_type": "code",
   "execution_count": 40,
   "id": "e4cb7665",
   "metadata": {},
   "outputs": [],
   "source": [
    "# Define an object of the custom dataset for the train folder.\n",
    "img_dataset = pytorch_data(\n",
    "    PREPARED_DATA_FOLDER, data_transformer, \"full_data\"\n",
    ")  # Histopathalogic images"
   ]
  },
  {
   "cell_type": "code",
   "execution_count": null,
   "id": "3d716928",
   "metadata": {},
   "outputs": [
    {
     "name": "stdout",
     "output_type": "stream",
     "text": [
      "train dataset size: 13200\n",
      "validation dataset size: 4401\n",
      "test dataset size: 4401\n"
     ]
    }
   ],
   "source": [
    "# Get all labels from the dataset\n",
    "all_labels = np.array(img_dataset.labels)\n",
    "all_indices = np.arange(len(img_dataset))\n",
    "\n",
    "# First, split into train and test in a stratified way\n",
    "train_indices, test_indices = train_test_split(\n",
    "    all_indices, test_size=TEST_SPLIT, stratify=all_labels, random_state=42\n",
    ")\n",
    "\n",
    "if DO_SPLIT_VAL:\n",
    "    # Further split train into train/val in a stratified way\n",
    "    train_labels = all_labels[train_indices]\n",
    "    train_indices, val_indices = train_test_split(\n",
    "        train_indices,\n",
    "        test_size=TEST_SPLIT / (1 - TEST_SPLIT),\n",
    "        stratify=train_labels,\n",
    "        random_state=42,\n",
    "    )\n",
    "    val_ts = torch.utils.data.Subset(img_dataset, val_indices)\n",
    "\n",
    "train_ts = torch.utils.data.Subset(img_dataset, train_indices)\n",
    "test_ts = torch.utils.data.Subset(img_dataset, test_indices)\n",
    "\n",
    "# Save the labels to respective CSV files in PREPARED_DATA_FOLDER\n",
    "# Get the corresponding filenames for each split\n",
    "all_filenames = np.array(img_dataset.full_filenames)\n",
    "\n",
    "\n",
    "def get_id_from_path(path):\n",
    "    # Assumes filename is the last part and ends with .tif\n",
    "    return os.path.splitext(os.path.basename(path))[0]\n",
    "\n",
    "\n",
    "# Ensure the PREPARED_DATA_FOLDER exists\n",
    "os.makedirs(PREPARED_DATA_FOLDER, exist_ok=True)\n",
    "\n",
    "# Train labels\n",
    "train_ids = [get_id_from_path(all_filenames[i]) for i in train_indices]\n",
    "train_labels_arr = all_labels[train_indices]\n",
    "train_df = pd.DataFrame({\"id\": train_ids, \"label\": train_labels_arr})\n",
    "train_df.to_csv(os.path.join(PREPARED_DATA_FOLDER, \"train_labels.csv\"), index=False)\n",
    "\n",
    "# Validation labels (if applicable)\n",
    "if DO_SPLIT_VAL:\n",
    "    val_ids = [get_id_from_path(all_filenames[i]) for i in val_indices]\n",
    "    val_labels_arr = all_labels[val_indices]\n",
    "    val_df = pd.DataFrame({\"id\": val_ids, \"label\": val_labels_arr})\n",
    "    val_df.to_csv(os.path.join(PREPARED_DATA_FOLDER, \"val_labels.csv\"), index=False)\n",
    "\n",
    "# Test labels\n",
    "test_ids = [get_id_from_path(all_filenames[i]) for i in test_indices]\n",
    "test_labels_arr = all_labels[test_indices]\n",
    "test_df = pd.DataFrame({\"id\": test_ids, \"label\": test_labels_arr})\n",
    "test_df.to_csv(os.path.join(PREPARED_DATA_FOLDER, \"test_labels.csv\"), index=False)\n",
    "\n",
    "print(\"train dataset size:\", len(train_ts))\n",
    "if DO_SPLIT_VAL:\n",
    "    print(\"validation dataset size:\", len(val_ts))\n",
    "print(\"test dataset size:\", len(test_ts))"
   ]
  },
  {
   "cell_type": "code",
   "execution_count": 26,
   "id": "4481e362",
   "metadata": {},
   "outputs": [
    {
     "name": "stdout",
     "output_type": "stream",
     "text": [
      "torch.Size([3, 46, 46]) 0\n",
      "torch.Size([3, 46, 46]) 1\n",
      "torch.Size([3, 46, 46]) 0\n",
      "torch.Size([3, 46, 46]) 0\n",
      "torch.Size([3, 46, 46]) 0\n",
      "torch.Size([3, 46, 46]) 1\n",
      "torch.Size([3, 46, 46]) 1\n"
     ]
    }
   ],
   "source": [
    "# getting the torch tensor image & target variable\n",
    "ii = -1\n",
    "for x, y in train_ts:\n",
    "    print(x.shape, y)\n",
    "    ii += 1\n",
    "    if ii > 5:\n",
    "        break"
   ]
  },
  {
   "cell_type": "markdown",
   "id": "b763d65d",
   "metadata": {},
   "source": [
    "# Transform and save"
   ]
  },
  {
   "cell_type": "code",
   "execution_count": 42,
   "id": "c0e78a6d",
   "metadata": {},
   "outputs": [],
   "source": [
    "# Define the following transformations for the training dataset\n",
    "tr_transf = transforms.Compose(\n",
    "    [\n",
    "        transforms.RandomHorizontalFlip(p=0.5),\n",
    "        transforms.RandomVerticalFlip(p=0.5),\n",
    "        transforms.RandomRotation(45),\n",
    "        transforms.ToTensor(),\n",
    "    ]\n",
    ")"
   ]
  },
  {
   "cell_type": "code",
   "execution_count": null,
   "id": "d32b8ebf",
   "metadata": {},
   "outputs": [],
   "source": [
    "# --- Save train set with transformation ---\n",
    "out_dir = os.path.join(PREPARED_DATA_FOLDER, \"train\")\n",
    "os.makedirs(out_dir, exist_ok=True)\n",
    "\n",
    "subset_indices = (\n",
    "    train_ts.indices if hasattr(train_ts, \"indices\") else list(range(len(train_ts)))\n",
    ")\n",
    "\n",
    "for local_idx, ds_idx in enumerate(subset_indices):\n",
    "    orig_path = img_dataset.full_filenames[ds_idx]\n",
    "    base_name = os.path.splitext(os.path.basename(orig_path))[0]\n",
    "    save_path = os.path.join(out_dir, f\"{base_name}.tif\")\n",
    "\n",
    "    img, label = train_ts[local_idx]\n",
    "\n",
    "    if isinstance(img, Image.Image):\n",
    "        img_pil = img\n",
    "    else:\n",
    "        img_pil = transforms.ToPILImage()(img)\n",
    "\n",
    "    img_transformed = (\n",
    "        tr_transf(img_pil)\n",
    "        if \"tr_transf\" in globals() and tr_transf is not None\n",
    "        else img_pil\n",
    "    )\n",
    "\n",
    "    if not isinstance(img_transformed, Image.Image):\n",
    "        img_transformed = transforms.ToPILImage()(img_transformed)\n",
    "\n",
    "    img_transformed.save(save_path, format=\"TIFF\")\n"
   ]
  },
  {
   "cell_type": "code",
   "execution_count": 47,
   "id": "a68a8759",
   "metadata": {},
   "outputs": [],
   "source": [
    "# --- Save val set without transformation ---\n",
    "if DO_SPLIT_VAL:\n",
    "    out_dir_val = os.path.join(PREPARED_DATA_FOLDER, \"val\")\n",
    "    os.makedirs(out_dir_val, exist_ok=True)\n",
    "\n",
    "    val_subset_indices = (\n",
    "        val_ts.indices if hasattr(val_ts, \"indices\") else list(range(len(val_ts)))\n",
    "    )\n",
    "\n",
    "    for local_idx, ds_idx in enumerate(val_subset_indices):\n",
    "        orig_path = img_dataset.full_filenames[ds_idx]\n",
    "        base_name = os.path.splitext(os.path.basename(orig_path))[0]\n",
    "        save_path = os.path.join(out_dir_val, f\"{base_name}.tif\")\n",
    "\n",
    "        img, label = val_ts[local_idx]\n",
    "\n",
    "        if isinstance(img, Image.Image):\n",
    "            img_pil = img\n",
    "        else:\n",
    "            img_pil = transforms.ToPILImage()(img)\n",
    "\n",
    "        # No transformation for val\n",
    "        if not isinstance(img_pil, Image.Image):\n",
    "            img_pil = transforms.ToPILImage()(img_pil)\n",
    "\n",
    "        img_pil.save(save_path, format=\"TIFF\")\n",
    "\n",
    "# --- Save test set without transformation ---\n",
    "out_dir_test = os.path.join(PREPARED_DATA_FOLDER, \"test\")\n",
    "os.makedirs(out_dir_test, exist_ok=True)\n",
    "\n",
    "test_subset_indices = (\n",
    "    test_ts.indices if hasattr(test_ts, \"indices\") else list(range(len(test_ts)))\n",
    ")\n",
    "\n",
    "for local_idx, ds_idx in enumerate(test_subset_indices):\n",
    "    orig_path = img_dataset.full_filenames[ds_idx]\n",
    "    base_name = os.path.splitext(os.path.basename(orig_path))[0]\n",
    "    save_path = os.path.join(out_dir_test, f\"{base_name}.tif\")\n",
    "\n",
    "    img, label = test_ts[local_idx]\n",
    "\n",
    "    if isinstance(img, Image.Image):\n",
    "        img_pil = img\n",
    "    else:\n",
    "        img_pil = transforms.ToPILImage()(img)\n",
    "\n",
    "    # No transformation for test\n",
    "    if not isinstance(img_pil, Image.Image):\n",
    "        img_pil = transforms.ToPILImage()(img_pil)\n",
    "\n",
    "    img_pil.save(save_path, format=\"TIFF\")"
   ]
  },
  {
   "cell_type": "code",
   "execution_count": null,
   "id": "9692b671",
   "metadata": {},
   "outputs": [],
   "source": []
  }
 ],
 "metadata": {
  "kernelspec": {
   "display_name": ".venv",
   "language": "python",
   "name": "python3"
  },
  "language_info": {
   "codemirror_mode": {
    "name": "ipython",
    "version": 3
   },
   "file_extension": ".py",
   "mimetype": "text/x-python",
   "name": "python",
   "nbconvert_exporter": "python",
   "pygments_lexer": "ipython3",
   "version": "3.11.9"
  }
 },
 "nbformat": 4,
 "nbformat_minor": 5
}
